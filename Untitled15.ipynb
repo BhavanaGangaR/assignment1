{
 "cells": [
  {
   "cell_type": "code",
   "execution_count": 5,
   "metadata": {},
   "outputs": [
    {
     "name": "stdout",
     "output_type": "stream",
     "text": [
      "10\n",
      "9\n",
      "8\n",
      "7\n",
      "6\n",
      "5\n",
      "4\n",
      "3\n",
      "2\n",
      "1\n"
     ]
    }
   ],
   "source": [
    "#Task 10\n",
    "#using while loop print numbers from 10 to 1\n",
    "count = 10\n",
    "while(count<11 and count>0):\n",
    "    print(count)\n",
    "    count-= 1"
   ]
  },
  {
   "cell_type": "code",
   "execution_count": 8,
   "metadata": {},
   "outputs": [
    {
     "name": "stdout",
     "output_type": "stream",
     "text": [
      "1\n",
      "2\n",
      "3\n",
      "4\n",
      "5\n"
     ]
    }
   ],
   "source": [
    "#try using for loop to loop over tuples,sets and dictionaries\n",
    "\n",
    "#tuples\n",
    "\n",
    "tup1 = (1,2,3,4,5)\n",
    "for values in tup1:\n",
    "    print(values)"
   ]
  },
  {
   "cell_type": "code",
   "execution_count": 9,
   "metadata": {},
   "outputs": [
    {
     "name": "stdout",
     "output_type": "stream",
     "text": [
      "1\n",
      "3\n",
      "10\n",
      "pycharm\n",
      "jupyter\n",
      "python\n"
     ]
    }
   ],
   "source": [
    "#sets\n",
    "\n",
    "set1 = {1,3,'python', 'jupyter', 'pycharm', 10}\n",
    "\n",
    "for item in set1:\n",
    "    print(item)"
   ]
  },
  {
   "cell_type": "code",
   "execution_count": 22,
   "metadata": {},
   "outputs": [
    {
     "name": "stdout",
     "output_type": "stream",
     "text": [
      "Bangalore Karnataka\n",
      "Mumbai Maharastra\n",
      "Chenai Tamilnadu\n",
      "Hyderabad Andra Pradesh\n"
     ]
    }
   ],
   "source": [
    "#dictionaries\n",
    "\n",
    "dict1 = {'Bangalore': 'Karnataka', 'Mumbai': 'Maharastra', 'Chenai': 'Tamilnadu', 'Hyderabad': 'Andra Pradesh' }\n",
    "\n",
    "for item in dict1:\n",
    "    print(item, dict1.get(item))\n"
   ]
  }
 ],
 "metadata": {
  "kernelspec": {
   "display_name": "Python 3",
   "language": "python",
   "name": "python3"
  },
  "language_info": {
   "codemirror_mode": {
    "name": "ipython",
    "version": 3
   },
   "file_extension": ".py",
   "mimetype": "text/x-python",
   "name": "python",
   "nbconvert_exporter": "python",
   "pygments_lexer": "ipython3",
   "version": "3.7.1"
  }
 },
 "nbformat": 4,
 "nbformat_minor": 2
}
