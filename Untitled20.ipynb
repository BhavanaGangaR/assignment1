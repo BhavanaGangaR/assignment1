{
 "cells": [
  {
   "cell_type": "code",
   "execution_count": 34,
   "metadata": {},
   "outputs": [
    {
     "name": "stdout",
     "output_type": "stream",
     "text": [
      "[0, 2, 4]\n",
      "[0, 4, 16]\n",
      "20\n"
     ]
    }
   ],
   "source": [
    "#Task 12\n",
    "\n",
    "'''Go through the below in-built functions with 2 examples each.\n",
    "reduce()\n",
    "zip()\n",
    "enumerate()\n",
    "'''\n",
    "\n",
    "\n",
    "#reduce function\n",
    "\n",
    "from functools import reduce\n",
    "\n",
    "mylist=[0,1,2,3,4,5]\n",
    "\n",
    "evens=list(filter(lambda i:i%2==0, mylist))\n",
    "print(evens)\n",
    "doubles=list(map(lambda i:i**2, evens))\n",
    "print(doubles)\n",
    "sum=reduce(lambda x,y:x+y,doubles)\n",
    "print(sum)"
   ]
  },
  {
   "cell_type": "code",
   "execution_count": 37,
   "metadata": {},
   "outputs": [
    {
     "name": "stdout",
     "output_type": "stream",
     "text": [
      "24\n"
     ]
    }
   ],
   "source": [
    "a=[1,2,3,4]\n",
    "mul=reduce(lambda x,y:x*y,a)\n",
    "print(mul)"
   ]
  },
  {
   "cell_type": "code",
   "execution_count": 8,
   "metadata": {},
   "outputs": [
    {
     "name": "stdout",
     "output_type": "stream",
     "text": [
      "[('apple', 'red'), ('banana', 'yellow'), ('kiwi', 'green')]\n"
     ]
    }
   ],
   "source": [
    "#zip function\n",
    "\n",
    "fruit =['apple','banana','kiwi',]\n",
    "colour=['red','yellow','green']\n",
    "zipped=list(zip(fruit,colour))\n",
    "print(zipped)"
   ]
  },
  {
   "cell_type": "code",
   "execution_count": 38,
   "metadata": {},
   "outputs": [
    {
     "name": "stdout",
     "output_type": "stream",
     "text": [
      "apple red\n",
      "banana yellow\n",
      "kiwi green\n"
     ]
    }
   ],
   "source": [
    "for (a,b) in zip(fruit,colour):\n",
    "    print(a,b)"
   ]
  },
  {
   "cell_type": "code",
   "execution_count": 42,
   "metadata": {},
   "outputs": [
    {
     "name": "stdout",
     "output_type": "stream",
     "text": [
      "{'Karnataka': 'Bangalore', 'Tamilnadu': 'Chennai', 'Telangana': 'Hyderabad', 'Kerala': 'Thiruvanantapuram'}\n"
     ]
    }
   ],
   "source": [
    "state=('Karnataka','Tamilnadu','Telangana','Kerala')\n",
    "capital=('Bangalore','Chennai','Hyderabad','Thiruvanantapuram')\n",
    "south=dict(zip(state,capital))\n",
    "print(south)"
   ]
  },
  {
   "cell_type": "code",
   "execution_count": 32,
   "metadata": {},
   "outputs": [
    {
     "name": "stdout",
     "output_type": "stream",
     "text": [
      "(0, 'x')\n",
      "(1, 'y')\n",
      "(2, 'z')\n",
      "[(0, 'x'), (1, 'y'), (2, 'z')]\n"
     ]
    }
   ],
   "source": [
    "#enumerate function\n",
    "\n",
    "a=['x','y','z']\n",
    "\n",
    "for i in enumerate(a):\n",
    "    print(i)\n",
    "\n",
    "a=list(enumerate(a))\n",
    "print(a)"
   ]
  },
  {
   "cell_type": "code",
   "execution_count": 33,
   "metadata": {},
   "outputs": [
    {
     "name": "stdout",
     "output_type": "stream",
     "text": [
      "2 2\n",
      "4 4\n",
      "6 6\n",
      "[(1, 1), (2, 2), (3, 3), (4, 4), (5, 5), (6, 6)]\n"
     ]
    }
   ],
   "source": [
    "num=[1,2,3,4,5,6]\n",
    "\n",
    "for i, item in enumerate(num,1):\n",
    "        if(item%2==0):\n",
    "         print(i,item)\n",
    "        \n",
    "count=list(enumerate(num,1))\n",
    "print(count)"
   ]
  },
  {
   "cell_type": "code",
   "execution_count": null,
   "metadata": {},
   "outputs": [],
   "source": []
  }
 ],
 "metadata": {
  "kernelspec": {
   "display_name": "Python 3",
   "language": "python",
   "name": "python3"
  },
  "language_info": {
   "codemirror_mode": {
    "name": "ipython",
    "version": 3
   },
   "file_extension": ".py",
   "mimetype": "text/x-python",
   "name": "python",
   "nbconvert_exporter": "python",
   "pygments_lexer": "ipython3",
   "version": "3.7.1"
  }
 },
 "nbformat": 4,
 "nbformat_minor": 2
}
