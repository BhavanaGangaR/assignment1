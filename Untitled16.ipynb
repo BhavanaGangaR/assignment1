{
 "cells": [
  {
   "cell_type": "code",
   "execution_count": 1,
   "metadata": {},
   "outputs": [
    {
     "data": {
      "text/plain": [
       "'\\nTask 11\\n\\nAsk 2 numbers from users and store it in num1 and num2\\nAsk user to press 1 for addition,2 for subtraction,3 for multiplication and 4 for division\\ncreate 4 seperate functions for each operation (i.e. addition,subtraction,multiplication and division)\\nbased on number given by user,call that perticular function and print the output\\n\\n'"
      ]
     },
     "execution_count": 1,
     "metadata": {},
     "output_type": "execute_result"
    }
   ],
   "source": [
    "'''\n",
    "Task 11\n",
    "\n",
    "Ask 2 numbers from users and store it in num1 and num2\n",
    "Ask user to press 1 for addition,2 for subtraction,3 for multiplication and 4 for division\n",
    "create 4 seperate functions for each operation (i.e. addition,subtraction,multiplication and division)\n",
    "based on number given by user,call that perticular function and print the output\n",
    "\n",
    "'''"
   ]
  },
  {
   "cell_type": "code",
   "execution_count": null,
   "metadata": {},
   "outputs": [],
   "source": [
    "num1 = input('Enter 1st number')\n",
    "num1 = int(num1)\n",
    "num2 = input('Enter 2nd number')\n",
    "num2 = int(num2)\n",
    "choice = input('Enter 1 for add, 2 for sub, 3 for mul & 4 for div')\n",
    "choice = int(choice)\n",
    "\n",
    "def add():\n",
    "    a=num1+num2\n",
    "    print(a)\n",
    "\n",
    "def sub():\n",
    "    s=num1-num2\n",
    "    print(s)\n",
    "\n",
    "def mul():\n",
    "    m=num1*num2\n",
    "    print(m)\n",
    "    \n",
    "def div():\n",
    "    d=num1/num2\n",
    "    print(d)\n",
    "    \n",
    "if(choice==1):\n",
    "    add()  \n",
    "elif(choice==2):\n",
    "    sub()\n",
    "elif(choice==3):\n",
    "    mul()\n",
    "elif(choice==4):\n",
    "    div()\n",
    "else:\n",
    "    print(\"invalid option\")"
   ]
  }
 ],
 "metadata": {
  "kernelspec": {
   "display_name": "Python 3",
   "language": "python",
   "name": "python3"
  },
  "language_info": {
   "codemirror_mode": {
    "name": "ipython",
    "version": 3
   },
   "file_extension": ".py",
   "mimetype": "text/x-python",
   "name": "python",
   "nbconvert_exporter": "python",
   "pygments_lexer": "ipython3",
   "version": "3.7.1"
  }
 },
 "nbformat": 4,
 "nbformat_minor": 2
}
