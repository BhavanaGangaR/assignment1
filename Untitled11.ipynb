{
 "cells": [
  {
   "cell_type": "code",
   "execution_count": 6,
   "metadata": {},
   "outputs": [
    {
     "name": "stdout",
     "output_type": "stream",
     "text": [
      "enter first number5\n",
      "enter second number5\n",
      "5\n",
      "5\n",
      "enter option: 1 for add, 2 for sub, 3 for mul & 4 for div4\n",
      "1.0\n"
     ]
    }
   ],
   "source": [
    "#Task 9\n",
    "#Ask 2 numbers from users and store it in num1 and num2\n",
    "#Ask user to press 1 for addition,2 for subtraction,3 for multiplication and 4 for division\n",
    "#based on number given by user do the math operation\n",
    "\n",
    "\n",
    "num1 = input('enter first number')\n",
    "num1 = int(num1)\n",
    "num2 = input('enter second number')\n",
    "num2 = int(num2)\n",
    "print(num1)\n",
    "print(num2)\n",
    "user = input( 'enter option: 1 for add, 2 for sub, 3 for mul & 4 for div')\n",
    "user = int(user)\n",
    "\n",
    "if(user == 1):\n",
    "   add=num1+num2\n",
    "   print(add)\n",
    "elif(user == 2):\n",
    "    sub=num1-num2\n",
    "    print(sub)\n",
    "elif(user == 3):\n",
    "    mul=num1*num2\n",
    "    print(mul)\n",
    "elif(user == 4):\n",
    "    div=num1/num2\n",
    "    print(div)\n",
    "else:\n",
    "    print(\"invalid option\")"
   ]
  }
 ],
 "metadata": {
  "kernelspec": {
   "display_name": "Python 3",
   "language": "python",
   "name": "python3"
  },
  "language_info": {
   "codemirror_mode": {
    "name": "ipython",
    "version": 3
   },
   "file_extension": ".py",
   "mimetype": "text/x-python",
   "name": "python",
   "nbconvert_exporter": "python",
   "pygments_lexer": "ipython3",
   "version": "3.7.1"
  }
 },
 "nbformat": 4,
 "nbformat_minor": 2
}
